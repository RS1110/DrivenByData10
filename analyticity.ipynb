{
 "cells": [
  {
   "cell_type": "markdown",
   "metadata": {},
   "source": [
    "## Importing Dependencies\n"
   ]
  },
  {
   "cell_type": "code",
   "execution_count": 1,
   "metadata": {
    "collapsed": false
   },
   "outputs": [
    {
     "name": "stderr",
     "output_type": "stream",
     "text": [
      "/usr/local/lib/python3.5/dist-packages/matplotlib/font_manager.py:273: UserWarning: Matplotlib is building the font cache using fc-list. This may take a moment.\n",
      "  warnings.warn('Matplotlib is building the font cache using fc-list. This may take a moment.')\n",
      "/usr/local/lib/python3.5/dist-packages/matplotlib/font_manager.py:273: UserWarning: Matplotlib is building the font cache using fc-list. This may take a moment.\n",
      "  warnings.warn('Matplotlib is building the font cache using fc-list. This may take a moment.')\n"
     ]
    }
   ],
   "source": [
    "import pandas as pd\n",
    "import numpy as np\n",
    "import seaborn as sns"
   ]
  },
  {
   "cell_type": "markdown",
   "metadata": {},
   "source": [
    "## Loading Data"
   ]
  },
  {
   "cell_type": "code",
   "execution_count": 2,
   "metadata": {
    "collapsed": false,
    "scrolled": true
   },
   "outputs": [
    {
     "data": {
      "text/html": [
       "<div>\n",
       "<style scoped>\n",
       "    .dataframe tbody tr th:only-of-type {\n",
       "        vertical-align: middle;\n",
       "    }\n",
       "\n",
       "    .dataframe tbody tr th {\n",
       "        vertical-align: top;\n",
       "    }\n",
       "\n",
       "    .dataframe thead th {\n",
       "        text-align: right;\n",
       "    }\n",
       "</style>\n",
       "<table border=\"1\" class=\"dataframe\">\n",
       "  <thead>\n",
       "    <tr style=\"text-align: right;\">\n",
       "      <th></th>\n",
       "      <th>LOAN_ID</th>\n",
       "      <th>AMOUNT</th>\n",
       "      <th>DUE_MORTGAGE</th>\n",
       "      <th>VALUE</th>\n",
       "      <th>REASON</th>\n",
       "      <th>OCC</th>\n",
       "      <th>TJOB</th>\n",
       "      <th>DCL</th>\n",
       "      <th>CLT</th>\n",
       "      <th>CL_COUNT</th>\n",
       "      <th>RATIO</th>\n",
       "      <th>CONVICTED</th>\n",
       "      <th>VAR_1</th>\n",
       "      <th>VAR_2</th>\n",
       "      <th>VAR_3</th>\n",
       "      <th>DEFAULTER</th>\n",
       "    </tr>\n",
       "  </thead>\n",
       "  <tbody>\n",
       "    <tr>\n",
       "      <th>0</th>\n",
       "      <td>3682648</td>\n",
       "      <td>15100</td>\n",
       "      <td>71168.0</td>\n",
       "      <td>97480.0</td>\n",
       "      <td>1.0</td>\n",
       "      <td>0.0</td>\n",
       "      <td>9.0</td>\n",
       "      <td>0.0</td>\n",
       "      <td>119.166667</td>\n",
       "      <td>19.0</td>\n",
       "      <td>NaN</td>\n",
       "      <td>0</td>\n",
       "      <td>0</td>\n",
       "      <td>1</td>\n",
       "      <td>2.00950</td>\n",
       "      <td>1</td>\n",
       "    </tr>\n",
       "    <tr>\n",
       "      <th>1</th>\n",
       "      <td>3682649</td>\n",
       "      <td>21100</td>\n",
       "      <td>81747.0</td>\n",
       "      <td>109840.0</td>\n",
       "      <td>1.0</td>\n",
       "      <td>0.0</td>\n",
       "      <td>NaN</td>\n",
       "      <td>0.0</td>\n",
       "      <td>174.786162</td>\n",
       "      <td>24.0</td>\n",
       "      <td>40.067527</td>\n",
       "      <td>0</td>\n",
       "      <td>0</td>\n",
       "      <td>1</td>\n",
       "      <td>1.27240</td>\n",
       "      <td>0</td>\n",
       "    </tr>\n",
       "    <tr>\n",
       "      <th>2</th>\n",
       "      <td>3682650</td>\n",
       "      <td>15900</td>\n",
       "      <td>94262.0</td>\n",
       "      <td>128414.0</td>\n",
       "      <td>1.0</td>\n",
       "      <td>3.0</td>\n",
       "      <td>4.0</td>\n",
       "      <td>NaN</td>\n",
       "      <td>242.736126</td>\n",
       "      <td>42.0</td>\n",
       "      <td>39.231892</td>\n",
       "      <td>1</td>\n",
       "      <td>0</td>\n",
       "      <td>2</td>\n",
       "      <td>1.47250</td>\n",
       "      <td>0</td>\n",
       "    </tr>\n",
       "    <tr>\n",
       "      <th>3</th>\n",
       "      <td>3682651</td>\n",
       "      <td>12900</td>\n",
       "      <td>110899.0</td>\n",
       "      <td>124480.0</td>\n",
       "      <td>1.0</td>\n",
       "      <td>2.0</td>\n",
       "      <td>7.0</td>\n",
       "      <td>0.0</td>\n",
       "      <td>204.900000</td>\n",
       "      <td>40.0</td>\n",
       "      <td>NaN</td>\n",
       "      <td>0</td>\n",
       "      <td>1</td>\n",
       "      <td>2</td>\n",
       "      <td>1.57010</td>\n",
       "      <td>1</td>\n",
       "    </tr>\n",
       "    <tr>\n",
       "      <th>4</th>\n",
       "      <td>3682652</td>\n",
       "      <td>24600</td>\n",
       "      <td>NaN</td>\n",
       "      <td>35523.0</td>\n",
       "      <td>0.0</td>\n",
       "      <td>0.0</td>\n",
       "      <td>21.0</td>\n",
       "      <td>0.0</td>\n",
       "      <td>84.111988</td>\n",
       "      <td>15.0</td>\n",
       "      <td>29.865634</td>\n",
       "      <td>0</td>\n",
       "      <td>0</td>\n",
       "      <td>1</td>\n",
       "      <td>1.50130</td>\n",
       "      <td>0</td>\n",
       "    </tr>\n",
       "    <tr>\n",
       "      <th>5</th>\n",
       "      <td>3682653</td>\n",
       "      <td>15000</td>\n",
       "      <td>65742.0</td>\n",
       "      <td>86608.0</td>\n",
       "      <td>0.0</td>\n",
       "      <td>0.0</td>\n",
       "      <td>NaN</td>\n",
       "      <td>0.0</td>\n",
       "      <td>289.581891</td>\n",
       "      <td>20.0</td>\n",
       "      <td>28.285563</td>\n",
       "      <td>0</td>\n",
       "      <td>0</td>\n",
       "      <td>0</td>\n",
       "      <td>1.51770</td>\n",
       "      <td>0</td>\n",
       "    </tr>\n",
       "    <tr>\n",
       "      <th>6</th>\n",
       "      <td>3682654</td>\n",
       "      <td>22800</td>\n",
       "      <td>75253.0</td>\n",
       "      <td>106166.0</td>\n",
       "      <td>1.0</td>\n",
       "      <td>0.0</td>\n",
       "      <td>NaN</td>\n",
       "      <td>0.0</td>\n",
       "      <td>176.339376</td>\n",
       "      <td>24.0</td>\n",
       "      <td>38.266594</td>\n",
       "      <td>0</td>\n",
       "      <td>0</td>\n",
       "      <td>1</td>\n",
       "      <td>2.43220</td>\n",
       "      <td>0</td>\n",
       "    </tr>\n",
       "    <tr>\n",
       "      <th>7</th>\n",
       "      <td>3682655</td>\n",
       "      <td>23200</td>\n",
       "      <td>133766.0</td>\n",
       "      <td>174085.0</td>\n",
       "      <td>NaN</td>\n",
       "      <td>3.0</td>\n",
       "      <td>26.0</td>\n",
       "      <td>3.0</td>\n",
       "      <td>333.409840</td>\n",
       "      <td>28.0</td>\n",
       "      <td>30.778638</td>\n",
       "      <td>0</td>\n",
       "      <td>0</td>\n",
       "      <td>0</td>\n",
       "      <td>0.82074</td>\n",
       "      <td>0</td>\n",
       "    </tr>\n",
       "    <tr>\n",
       "      <th>8</th>\n",
       "      <td>3682656</td>\n",
       "      <td>11900</td>\n",
       "      <td>117952.0</td>\n",
       "      <td>125305.0</td>\n",
       "      <td>1.0</td>\n",
       "      <td>5.0</td>\n",
       "      <td>5.0</td>\n",
       "      <td>0.0</td>\n",
       "      <td>182.172065</td>\n",
       "      <td>18.0</td>\n",
       "      <td>33.210397</td>\n",
       "      <td>0</td>\n",
       "      <td>0</td>\n",
       "      <td>0</td>\n",
       "      <td>2.23040</td>\n",
       "      <td>0</td>\n",
       "    </tr>\n",
       "    <tr>\n",
       "      <th>9</th>\n",
       "      <td>3682657</td>\n",
       "      <td>13700</td>\n",
       "      <td>55763.0</td>\n",
       "      <td>87480.0</td>\n",
       "      <td>1.0</td>\n",
       "      <td>4.0</td>\n",
       "      <td>9.0</td>\n",
       "      <td>0.0</td>\n",
       "      <td>194.766667</td>\n",
       "      <td>20.0</td>\n",
       "      <td>NaN</td>\n",
       "      <td>0</td>\n",
       "      <td>0</td>\n",
       "      <td>0</td>\n",
       "      <td>1.24350</td>\n",
       "      <td>0</td>\n",
       "    </tr>\n",
       "  </tbody>\n",
       "</table>\n",
       "</div>"
      ],
      "text/plain": [
       "   LOAN_ID  AMOUNT  DUE_MORTGAGE     VALUE  REASON  OCC  TJOB  DCL  \\\n",
       "0  3682648   15100       71168.0   97480.0     1.0  0.0   9.0  0.0   \n",
       "1  3682649   21100       81747.0  109840.0     1.0  0.0   NaN  0.0   \n",
       "2  3682650   15900       94262.0  128414.0     1.0  3.0   4.0  NaN   \n",
       "3  3682651   12900      110899.0  124480.0     1.0  2.0   7.0  0.0   \n",
       "4  3682652   24600           NaN   35523.0     0.0  0.0  21.0  0.0   \n",
       "5  3682653   15000       65742.0   86608.0     0.0  0.0   NaN  0.0   \n",
       "6  3682654   22800       75253.0  106166.0     1.0  0.0   NaN  0.0   \n",
       "7  3682655   23200      133766.0  174085.0     NaN  3.0  26.0  3.0   \n",
       "8  3682656   11900      117952.0  125305.0     1.0  5.0   5.0  0.0   \n",
       "9  3682657   13700       55763.0   87480.0     1.0  4.0   9.0  0.0   \n",
       "\n",
       "          CLT  CL_COUNT      RATIO  CONVICTED  VAR_1  VAR_2    VAR_3  \\\n",
       "0  119.166667      19.0        NaN          0      0      1  2.00950   \n",
       "1  174.786162      24.0  40.067527          0      0      1  1.27240   \n",
       "2  242.736126      42.0  39.231892          1      0      2  1.47250   \n",
       "3  204.900000      40.0        NaN          0      1      2  1.57010   \n",
       "4   84.111988      15.0  29.865634          0      0      1  1.50130   \n",
       "5  289.581891      20.0  28.285563          0      0      0  1.51770   \n",
       "6  176.339376      24.0  38.266594          0      0      1  2.43220   \n",
       "7  333.409840      28.0  30.778638          0      0      0  0.82074   \n",
       "8  182.172065      18.0  33.210397          0      0      0  2.23040   \n",
       "9  194.766667      20.0        NaN          0      0      0  1.24350   \n",
       "\n",
       "   DEFAULTER  \n",
       "0          1  \n",
       "1          0  \n",
       "2          0  \n",
       "3          1  \n",
       "4          0  \n",
       "5          0  \n",
       "6          0  \n",
       "7          0  \n",
       "8          0  \n",
       "9          0  "
      ]
     },
     "execution_count": 2,
     "metadata": {},
     "output_type": "execute_result"
    }
   ],
   "source": [
    "train=pd.read_csv('/resources/data/Data/train.csv')\n",
    "test=pd.read_csv('/resources/data/Data/test.csv')\n",
    "train.head(10)"
   ]
  },
  {
   "cell_type": "code",
   "execution_count": 3,
   "metadata": {
    "collapsed": false
   },
   "outputs": [
    {
     "data": {
      "text/plain": [
       "<matplotlib.axes._subplots.AxesSubplot at 0x7fc49c055550>"
      ]
     },
     "execution_count": 3,
     "metadata": {},
     "output_type": "execute_result"
    },
    {
     "data": {
      "image/png": "[encoded data removed]",
      "text/plain": [
       "<matplotlib.figure.Figure at 0x7fc49c08e6a0>"
      ]
     },
     "metadata": {},
     "output_type": "display_data"
    }
   ],
   "source": [
    "import matplotlib.pyplot as plt\n",
    "corr=train.corr()\n",
    "%matplotlib inline\n",
    "plt.subplots(figsize=(16,12))\n",
    "sns.heatmap(corr, \n",
    "        xticklabels=corr.columns,\n",
    "        yticklabels=corr.columns)"
   ]
  },
  {
   "cell_type": "code",
   "execution_count": 4,
   "metadata": {
    "collapsed": true
   },
   "outputs": [],
   "source": [
    "##From the above heatmap, we can clearly see that there's a correlation between the two factors : due_mortgage and value. "
   ]
  },
  {
   "cell_type": "code",
   "execution_count": 5,
   "metadata": {
    "collapsed": false
   },
   "outputs": [
    {
     "data": {
      "text/plain": [
       "0    0.730078\n",
       "1    0.744237\n",
       "2    0.734048\n",
       "3    0.890898\n",
       "4         NaN\n",
       "dtype: float64"
      ]
     },
     "execution_count": 5,
     "metadata": {},
     "output_type": "execute_result"
    }
   ],
   "source": [
    "r=train[\"DUE_MORTGAGE\"]/train[\"VALUE\"]\n",
    "r.head(5)"
   ]
  },
  {
   "cell_type": "code",
   "execution_count": 6,
   "metadata": {
    "collapsed": false
   },
   "outputs": [
    {
     "data": {
      "text/plain": [
       "0.71110958322714857"
      ]
     },
     "execution_count": 6,
     "metadata": {},
     "output_type": "execute_result"
    }
   ],
   "source": [
    "ratio=r.mean()\n",
    "ratio"
   ]
  },
  {
   "cell_type": "code",
   "execution_count": 7,
   "metadata": {
    "collapsed": true
   },
   "outputs": [],
   "source": [
    "##Ratio will be used to find out missing values of due_mortgage and value (only if one of them is missing)."
   ]
  },
  {
   "cell_type": "markdown",
   "metadata": {},
   "source": [
    "## Combining Test and Train Datasets"
   ]
  },
  {
   "cell_type": "code",
   "execution_count": 8,
   "metadata": {
    "collapsed": true
   },
   "outputs": [],
   "source": [
    "#combining test and train datasets\n",
    "\n",
    "df= pd.concat([train, test], axis=0, join='outer')"
   ]
  },
  {
   "cell_type": "markdown",
   "metadata": {},
   "source": [
    "## Preprocessing - Handling Missing Values"
   ]
  },
  {
   "cell_type": "code",
   "execution_count": 9,
   "metadata": {
    "collapsed": false
   },
   "outputs": [
    {
     "data": {
      "text/plain": [
       "AMOUNT             0\n",
       "CLT              308\n",
       "CL_COUNT         222\n",
       "CONVICTED          0\n",
       "DCL              580\n",
       "DEFAULTER       2384\n",
       "DUE_MORTGAGE     518\n",
       "LOAN_ID            0\n",
       "OCC              279\n",
       "RATIO           1267\n",
       "REASON           252\n",
       "TEST_ID         3576\n",
       "TJOB             515\n",
       "VALUE            112\n",
       "VAR_1              0\n",
       "VAR_2              0\n",
       "VAR_3              0\n",
       "dtype: int64"
      ]
     },
     "execution_count": 9,
     "metadata": {},
     "output_type": "execute_result"
    }
   ],
   "source": [
    "\n",
    "df.isnull().sum()"
   ]
  },
  {
   "cell_type": "code",
   "execution_count": 10,
   "metadata": {
    "collapsed": false
   },
   "outputs": [
    {
     "name": "stdout",
     "output_type": "stream",
     "text": [
      "1.71233359689\n"
     ]
    }
   ],
   "source": [
    "\n",
    "#VALUE and DUE_MORTGAGE are in a ratio\n",
    "#New feature was added in df_new \n",
    "\n",
    "df_new=(df.loc[:,['DUE_MORTGAGE', 'VALUE']]).dropna()\n",
    "df_new['ratio'] = df_new['VALUE'] / df_new['DUE_MORTGAGE']\n",
    "\n",
    "VbyD = df_new.loc[:,'ratio'].mean()\n",
    "\n",
    "print(VbyD)"
   ]
  },
  {
   "cell_type": "code",
   "execution_count": 11,
   "metadata": {
    "collapsed": true
   },
   "outputs": [],
   "source": [
    "#When both the features of Due_mortgage and value are Nan, \n",
    "#individual means of the columns of Due_mortgage and value are calcuated\n",
    "#missing values of both the columns were calculated using VbyD\n",
    "\n",
    "df.loc[df['DUE_MORTGAGE'].isnull() & df['VALUE'].isnull(), 'DUE_MORTGAGE'] = df['DUE_MORTGAGE'].mean()\n",
    "df.loc[df['DUE_MORTGAGE'].isnull() & df['VALUE'].isnull(), 'VALUE'] = df['VALUE'].mean()\n",
    "\n",
    "df['DUE_MORTGAGE'].fillna(df['VALUE']/VbyD, inplace=True)\n",
    "df['VALUE'].fillna(df['DUE_MORTGAGE']*VbyD, inplace=True)"
   ]
  },
  {
   "cell_type": "code",
   "execution_count": 12,
   "metadata": {
    "collapsed": false
   },
   "outputs": [
    {
     "data": {
      "text/plain": [
       "AMOUNT             0\n",
       "CLT              308\n",
       "CL_COUNT         222\n",
       "CONVICTED          0\n",
       "DCL              580\n",
       "DEFAULTER       2384\n",
       "DUE_MORTGAGE       0\n",
       "LOAN_ID            0\n",
       "OCC              279\n",
       "RATIO           1267\n",
       "REASON           252\n",
       "TEST_ID         3576\n",
       "TJOB             515\n",
       "VALUE              0\n",
       "VAR_1              0\n",
       "VAR_2              0\n",
       "VAR_3              0\n",
       "dtype: int64"
      ]
     },
     "execution_count": 12,
     "metadata": {},
     "output_type": "execute_result"
    }
   ],
   "source": [
    "df.isnull().sum()"
   ]
  },
  {
   "cell_type": "code",
   "execution_count": 13,
   "metadata": {
    "collapsed": false
   },
   "outputs": [
    {
     "data": {
      "text/plain": [
       "AMOUNT             0\n",
       "CLT                0\n",
       "CL_COUNT           0\n",
       "CONVICTED          0\n",
       "DCL                0\n",
       "DEFAULTER       2384\n",
       "DUE_MORTGAGE       0\n",
       "LOAN_ID            0\n",
       "OCC                0\n",
       "RATIO              0\n",
       "REASON             0\n",
       "TEST_ID         3576\n",
       "TJOB               0\n",
       "VALUE              0\n",
       "VAR_1              0\n",
       "VAR_2              0\n",
       "VAR_3              0\n",
       "dtype: int64"
      ]
     },
     "execution_count": 13,
     "metadata": {},
     "output_type": "execute_result"
    }
   ],
   "source": [
    "df['REASON'].fillna(df['REASON'].mode()[0], inplace=True)\n",
    "df['OCC'].fillna(df['OCC'].mode()[0], inplace=True)\n",
    "df['DCL'].fillna(df['DCL'].mode()[0], inplace=True)\n",
    "df['CLT'].fillna(df['CLT'].mean(), inplace=True)\n",
    "df['TJOB'].fillna(df['TJOB'].mean(), inplace=True)  #doubtful\n",
    "df['CL_COUNT'].fillna(df['CL_COUNT'].mean(), inplace=True)\n",
    "df['RATIO'].fillna(-1, inplace=True)\n",
    "# -1 is dummy value. RF model will handle these missing values of ratio accordingly.\n",
    "df.isnull().sum()"
   ]
  },
  {
   "cell_type": "markdown",
   "metadata": {},
   "source": [
    "## Feature Engineering"
   ]
  },
  {
   "cell_type": "code",
   "execution_count": 14,
   "metadata": {
    "collapsed": true
   },
   "outputs": [],
   "source": [
    "\n",
    "df['income']=df['AMOUNT']/df['RATIO'] #already given\n",
    "\n",
    "s=df[df['income']>0].groupby(['OCC']).mean()['income']\n",
    "\n",
    "df.loc[(df['income']<0) & (df['OCC']==0.0), 'income'] = s[0.0]\n",
    "\n",
    "df.loc[(df['income']<0) & (df['OCC']==1.0), 'income'] = s[1.0]\n",
    "\n",
    "df.loc[(df['income']<0) & (df['OCC']==2.0), 'income'] = s[2.0]\n",
    "\n",
    "df.loc[(df['income']<0) & (df['OCC']==3.0), 'income'] = s[3.0]\n",
    "\n",
    "df.loc[(df['income']<0) & (df['OCC']==4.0), 'income'] = s[4.0]\n",
    "\n",
    "df.loc[(df['income']<0) & (df['OCC']==5.0), 'income'] = s[5.0]\n",
    "\n",
    "df['RATIO']=df['AMOUNT']/df['income']\n",
    "\n",
    "#New feature - Due_mortgage/value\n",
    "\n",
    "df['ratio_1']=df['DUE_MORTGAGE']/df['VALUE']"
   ]
  },
  {
   "cell_type": "markdown",
   "metadata": {},
   "source": [
    "## Modelling"
   ]
  },
  {
   "cell_type": "markdown",
   "metadata": {},
   "source": [
    "## Splitting train and validation set"
   ]
  },
  {
   "cell_type": "code",
   "execution_count": 15,
   "metadata": {
    "collapsed": false
   },
   "outputs": [
    {
     "ename": "SyntaxError",
     "evalue": "invalid syntax (<ipython-input-15-0b7f6c8ad0bc>, line 13)",
     "output_type": "error",
     "traceback": [
      "\u001b[0;36m  File \u001b[0;32m\"<ipython-input-15-0b7f6c8ad0bc>\"\u001b[0;36m, line \u001b[0;32m13\u001b[0m\n\u001b[0;31m    test_size=0.33, random_state=12, stratify=Y)pred_test = model.predict_proba(X_test_sub)[:,1]\u001b[0m\n\u001b[0m                                                        ^\u001b[0m\n\u001b[0;31mSyntaxError\u001b[0m\u001b[0;31m:\u001b[0m invalid syntax\n"
     ]
    }
   ],
   "source": [
    "\n",
    "features = ['AMOUNT', 'CLT', 'CL_COUNT', 'CONVICTED', 'DCL',\n",
    "       'DUE_MORTGAGE', 'OCC', 'RATIO', 'REASON', 'TJOB',\n",
    "       'VALUE', 'VAR_1', 'VAR_2', 'VAR_3', 'income', 'ratio_1']\n",
    "\n",
    "X = df[df['TEST_ID'].isnull()].loc[:,features]\n",
    "Y = df[df['TEST_ID'].isnull()].loc[:,'DEFAULTER']\n",
    "\n",
    "X_test_resplit = df[df['TEST_ID'].notnull()].loc[:,features]\n",
    "\n",
    "from sklearn.model_selection import train_test_split\n",
    "X_train, X_valid, Y_train, Y_valid = train_test_split( X, Y,\n",
    "                                        test_size=0.33, random_state=12, stratify=Y)pred_test = model.predict_proba(X_test_sub)[:,1]"
   ]
  },
  {
   "cell_type": "markdown",
   "metadata": {
    "collapsed": true
   },
   "source": [
    "## RF Model"
   ]
  },
  {
   "cell_type": "code",
   "execution_count": 16,
   "metadata": {
    "collapsed": false
   },
   "outputs": [
    {
     "ename": "NameError",
     "evalue": "name 'X_train' is not defined",
     "output_type": "error",
     "traceback": [
      "\u001b[0;31m---------------------------------------------------------------------------\u001b[0m",
      "\u001b[0;31mNameError\u001b[0m                                 Traceback (most recent call last)",
      "\u001b[0;32m<ipython-input-16-3b418d17f2b5>\u001b[0m in \u001b[0;36m<module>\u001b[0;34m()\u001b[0m\n\u001b[1;32m      7\u001b[0m                               n_jobs=-1, random_state =7)\n\u001b[1;32m      8\u001b[0m \u001b[0;34m\u001b[0m\u001b[0m\n\u001b[0;32m----> 9\u001b[0;31m \u001b[0mmodel\u001b[0m\u001b[0;34m.\u001b[0m\u001b[0mfit\u001b[0m\u001b[0;34m(\u001b[0m\u001b[0mX_train\u001b[0m\u001b[0;34m,\u001b[0m\u001b[0mY_train\u001b[0m\u001b[0;34m)\u001b[0m\u001b[0;34m\u001b[0m\u001b[0m\n\u001b[0m",
      "\u001b[0;31mNameError\u001b[0m: name 'X_train' is not defined"
     ]
    }
   ],
   "source": [
    "from sklearn.ensemble import RandomForestClassifier\n",
    "\n",
    "from sklearn.metrics import roc_auc_score\n",
    "\n",
    "model = RandomForestClassifier(n_estimators=300 ,max_leaf_nodes = 15,max_depth=4,\n",
    "                              min_samples_leaf=11, min_samples_split= 20,\n",
    "                              n_jobs=-1, random_state =7)\n",
    "\n",
    "model.fit(X_train,Y_train)"
   ]
  },
  {
   "cell_type": "code",
   "execution_count": null,
   "metadata": {
    "collapsed": false
   },
   "outputs": [],
   "source": [
    "#Prediction\n",
    "s=model.predict_proba(X_valid)[:,1]\n",
    "s_class = model.predict(X_valid)\n",
    "roc_auc_score(s_class, Y_valid)"
   ]
  },
  {
   "cell_type": "code",
   "execution_count": null,
   "metadata": {
    "collapsed": false
   },
   "outputs": [],
   "source": [
    "#Prediciting probability of defaulter value = 1 from test set.\n",
    "predict_test = model.predict_proba(X_test_resplit)[:,1]\n",
    "predict_test"
   ]
  },
  {
   "cell_type": "code",
   "execution_count": null,
   "metadata": {
    "collapsed": true
   },
   "outputs": [],
   "source": [
    "test['DEFAULTER'] = predict_test\n",
    "test.loc[:,['LOAN_ID', 'DEFAULTER']].to_csv('/resources/data/Data/final.csv')"
   ]
  },
  {
   "cell_type": "code",
   "execution_count": null,
   "metadata": {
    "collapsed": true
   },
   "outputs": [],
   "source": []
  },
  {
   "cell_type": "code",
   "execution_count": null,
   "metadata": {
    "collapsed": true
   },
   "outputs": [],
   "source": []
  },
  {
   "cell_type": "code",
   "execution_count": null,
   "metadata": {
    "collapsed": true
   },
   "outputs": [],
   "source": []
  },
  {
   "cell_type": "code",
   "execution_count": null,
   "metadata": {
    "collapsed": true
   },
   "outputs": [],
   "source": []
  }
 ],
 "metadata": {
  "kernelspec": {
   "display_name": "Python 3",
   "language": "python",
   "name": "python3"
  },
  "language_info": {
   "codemirror_mode": {
    "name": "ipython",
    "version": 3
   },
   "file_extension": ".py",
   "mimetype": "text/x-python",
   "name": "python",
   "nbconvert_exporter": "python",
   "pygments_lexer": "ipython3",
   "version": "3.5.2"
  },
  "widgets": {
   "state": {},
   "version": "1.1.2"
  }
 },
 "nbformat": 4,
 "nbformat_minor": 0
}
